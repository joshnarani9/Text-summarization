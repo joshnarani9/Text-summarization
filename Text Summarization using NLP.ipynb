{
 "cells": [
  {
   "cell_type": "code",
   "execution_count": 1,
   "metadata": {},
   "outputs": [],
   "source": [
    "import nltk\n",
    "from nltk.corpus import stopwords\n",
    "from nltk.tokenize import word_tokenize, sent_tokenize\n",
    "import heapq  "
   ]
  },
  {
   "cell_type": "code",
   "execution_count": 2,
   "metadata": {},
   "outputs": [],
   "source": [
    "def nltk_summarizer(raw_text):\n",
    "\tstopWords = set(stopwords.words(\"english\"))\n",
    "\tword_frequencies = {}  \n",
    "\tfor word in nltk.word_tokenize(raw_text):  \n",
    "\t    if word not in stopWords:\n",
    "\t        if word not in word_frequencies.keys():\n",
    "\t            word_frequencies[word] = 1\n",
    "\t        else:\n",
    "\t            word_frequencies[word] += 1\n",
    "\n",
    "\tmaximum_frequncy = max(word_frequencies.values())\n",
    "\n",
    "\tfor word in word_frequencies.keys():  \n",
    "\t    word_frequencies[word] = (word_frequencies[word]/maximum_frequncy)\n",
    "\n",
    "\tsentence_list = nltk.sent_tokenize(raw_text)\n",
    "\tsentence_scores = {}  \n",
    "\tfor sent in sentence_list:  \n",
    "\t    for word in nltk.word_tokenize(sent.lower()):\n",
    "\t        if word in word_frequencies.keys():\n",
    "\t            if len(sent.split(' ')) < 30:\n",
    "\t                if sent not in sentence_scores.keys():\n",
    "\t                    sentence_scores[sent] = word_frequencies[word]\n",
    "\t                else:\n",
    "\t                    sentence_scores[sent] += word_frequencies[word]\n",
    "\n",
    "\n",
    "\n",
    "\tsummary_sentences = heapq.nlargest(7, sentence_scores, key=sentence_scores.get)\n",
    "\n",
    "\tsummary = ' '.join(summary_sentences)  \n",
    "\treturn summary"
   ]
  },
  {
   "cell_type": "code",
   "execution_count": 3,
   "metadata": {},
   "outputs": [],
   "source": [
    "document1 =\"\"\"Machine learning (ML) is the scientific study of algorithms and statistical models that computer systems use to progressively improve their performance on a specific task. Machine learning algorithms build a mathematical model of sample data, known as \"training data\", in order to make predictions or decisions without being explicitly programmed to perform the task. Machine learning algorithms are used in the applications of email filtering, detection of network intruders, and computer vision, where it is infeasible to develop an algorithm of specific instructions for performing the task. Machine learning is closely related to computational statistics, which focuses on making predictions using computers. The study of mathematical optimization delivers methods, theory and application domains to the field of machine learning. Data mining is a field of study within machine learning, and focuses on exploratory data analysis through unsupervised learning.In its application across business problems, machine learning is also referred to as predictive analytics.\"\"\""
   ]
  },
  {
   "cell_type": "code",
   "execution_count": 4,
   "metadata": {},
   "outputs": [
    {
     "data": {
      "text/plain": [
       "'Machine learning algorithms build a mathematical model of sample data, known as \"training data\", in order to make predictions or decisions without being explicitly programmed to perform the task. Machine learning (ML) is the scientific study of algorithms and statistical models that computer systems use to progressively improve their performance on a specific task. The study of mathematical optimization delivers methods, theory and application domains to the field of machine learning. Machine learning is closely related to computational statistics, which focuses on making predictions using computers.'"
      ]
     },
     "execution_count": 4,
     "metadata": {},
     "output_type": "execute_result"
    }
   ],
   "source": [
    "nltk_summarizer(document1)"
   ]
  },
  {
   "cell_type": "code",
   "execution_count": null,
   "metadata": {},
   "outputs": [],
   "source": []
  }
 ],
 "metadata": {
  "kernelspec": {
   "display_name": "Python 3",
   "language": "python",
   "name": "python3"
  },
  "language_info": {
   "codemirror_mode": {
    "name": "ipython",
    "version": 3
   },
   "file_extension": ".py",
   "mimetype": "text/x-python",
   "name": "python",
   "nbconvert_exporter": "python",
   "pygments_lexer": "ipython3",
   "version": "3.7.3"
  }
 },
 "nbformat": 4,
 "nbformat_minor": 2
}
